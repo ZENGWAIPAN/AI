{
 "cells": [
  {
   "cell_type": "code",
   "execution_count": 1,
   "metadata": {},
   "outputs": [],
   "source": [
    "import pandas as pd"
   ]
  },
  {
   "cell_type": "code",
   "execution_count": 3,
   "metadata": {},
   "outputs": [
    {
     "data": {
      "text/html": [
       "<div>\n",
       "<style scoped>\n",
       "    .dataframe tbody tr th:only-of-type {\n",
       "        vertical-align: middle;\n",
       "    }\n",
       "\n",
       "    .dataframe tbody tr th {\n",
       "        vertical-align: top;\n",
       "    }\n",
       "\n",
       "    .dataframe thead th {\n",
       "        text-align: right;\n",
       "    }\n",
       "</style>\n",
       "<table border=\"1\" class=\"dataframe\">\n",
       "  <thead>\n",
       "    <tr style=\"text-align: right;\">\n",
       "      <th></th>\n",
       "      <th>关键词</th>\n",
       "      <th>标题</th>\n",
       "      <th>网址</th>\n",
       "      <th>来源</th>\n",
       "      <th>时间</th>\n",
       "    </tr>\n",
       "  </thead>\n",
       "  <tbody>\n",
       "    <tr>\n",
       "      <th>0</th>\n",
       "      <td>华能信托</td>\n",
       "      <td>信托公司2031年上半年经营业绩概览</td>\n",
       "      <td>http://www.financialnews.com.cn/jrsb_m/xt/zx/2...</td>\n",
       "      <td>中国金融新闻网</td>\n",
       "      <td>2031年07月23日 00:00</td>\n",
       "    </tr>\n",
       "    <tr>\n",
       "      <th>1</th>\n",
       "      <td>华能信托</td>\n",
       "      <td>首单信托型企业ABS获批</td>\n",
       "      <td>http://www.jjckb.cn/2030-10/23/c_137552198.htm</td>\n",
       "      <td>经济参考网</td>\n",
       "      <td>2030年10月23日 12:21</td>\n",
       "    </tr>\n",
       "    <tr>\n",
       "      <th>2</th>\n",
       "      <td>华能信托</td>\n",
       "      <td>华能贵诚信托孙磊:金融科技助力打造开放信托生态</td>\n",
       "      <td>https://baijiahao.baidu.com/s?id=1639276579449...</td>\n",
       "      <td>同花顺财经</td>\n",
       "      <td>2031年07月17日 10:49</td>\n",
       "    </tr>\n",
       "    <tr>\n",
       "      <th>3</th>\n",
       "      <td>华能信托</td>\n",
       "      <td>华能贵诚信托孙磊:金融科技已经成为信托行业重要的基础设施</td>\n",
       "      <td>https://finance.qq.com/a/20310716/007898.htm</td>\n",
       "      <td>腾讯财经</td>\n",
       "      <td>2031年07月16日 18:53</td>\n",
       "    </tr>\n",
       "    <tr>\n",
       "      <th>4</th>\n",
       "      <td>华能信托</td>\n",
       "      <td>格力电器股权转让意向方闭门开会 华能信托赫然在列</td>\n",
       "      <td>https://finance.sina.com.cn/trust/roll/2031-05...</td>\n",
       "      <td>新浪</td>\n",
       "      <td>2031年05月22日 22:53</td>\n",
       "    </tr>\n",
       "  </tbody>\n",
       "</table>\n",
       "</div>"
      ],
      "text/plain": [
       "    关键词                            标题  \\\n",
       "0  华能信托            信托公司2031年上半年经营业绩概览   \n",
       "1  华能信托                  首单信托型企业ABS获批   \n",
       "2  华能信托       华能贵诚信托孙磊:金融科技助力打造开放信托生态   \n",
       "3  华能信托  华能贵诚信托孙磊:金融科技已经成为信托行业重要的基础设施   \n",
       "4  华能信托      格力电器股权转让意向方闭门开会 华能信托赫然在列   \n",
       "\n",
       "                                                  网址       来源  \\\n",
       "0  http://www.financialnews.com.cn/jrsb_m/xt/zx/2...  中国金融新闻网   \n",
       "1     http://www.jjckb.cn/2030-10/23/c_137552198.htm    经济参考网   \n",
       "2  https://baijiahao.baidu.com/s?id=1639276579449...    同花顺财经   \n",
       "3       https://finance.qq.com/a/20310716/007898.htm     腾讯财经   \n",
       "4  https://finance.sina.com.cn/trust/roll/2031-05...       新浪   \n",
       "\n",
       "                  时间  \n",
       "0  2031年07月23日 00:00  \n",
       "1  2030年10月23日 12:21  \n",
       "2  2031年07月17日 10:49  \n",
       "3  2031年07月16日 18:53  \n",
       "4  2031年05月22日 22:53  "
      ]
     },
     "execution_count": 3,
     "metadata": {},
     "output_type": "execute_result"
    }
   ],
   "source": [
    "df = pd.read_excel(\"新闻.xlsx\")\n",
    "df.head()"
   ]
  },
  {
   "cell_type": "code",
   "execution_count": 4,
   "metadata": {},
   "outputs": [
    {
     "data": {
      "text/plain": [
       "(962, 5)"
      ]
     },
     "execution_count": 4,
     "metadata": {},
     "output_type": "execute_result"
    }
   ],
   "source": [
    "df.shape"
   ]
  },
  {
   "cell_type": "code",
   "execution_count": 5,
   "metadata": {},
   "outputs": [
    {
     "name": "stderr",
     "output_type": "stream",
     "text": [
      "Building prefix dict from the default dictionary ...\n",
      "Dumping model to file cache C:\\Users\\acer\\AppData\\Local\\Temp\\jieba.cache\n",
      "Loading model cost 0.451 seconds.\n",
      "Prefix dict has been built successfully.\n"
     ]
    },
    {
     "data": {
      "text/plain": [
       "['中华人民共和国', '建立', '于', '1949', '年']"
      ]
     },
     "execution_count": 5,
     "metadata": {},
     "output_type": "execute_result"
    }
   ],
   "source": [
    "# 测试以下jieba中文分词\n",
    "import jieba\n",
    "\n",
    "jieba.lcut(\"中华人民共和国建立于1949年\")"
   ]
  },
  {
   "cell_type": "code",
   "execution_count": 6,
   "metadata": {},
   "outputs": [],
   "source": [
    "import jieba\n",
    "\n",
    "words = [] # 存储每一条新闻的标题分词结果\n",
    "for i,row in df.iterrows(): #遍历DataFrame的每一行数据\n",
    "    word_list = jieba.lcut(row[\"标题\"]) # 对每一条新闻的标题进行中文分词\n",
    "    # 将分词结果合成字符串\n",
    "    result = ' '.join(word_list)\n",
    "    words.append(result)"
   ]
  },
  {
   "cell_type": "code",
   "execution_count": 7,
   "metadata": {},
   "outputs": [
    {
     "data": {
      "text/plain": [
       "['信托公司 2031 年 上半年 经营 业绩 概览', '首单 信托 型 企业 ABS 获批']"
      ]
     },
     "execution_count": 7,
     "metadata": {},
     "output_type": "execute_result"
    }
   ],
   "source": [
    "words[:2]"
   ]
  },
  {
   "cell_type": "code",
   "execution_count": 8,
   "metadata": {},
   "outputs": [
    {
     "name": "stdout",
     "output_type": "stream",
     "text": [
      "[[0 0 0 ... 0 0 0]\n",
      " [0 0 0 ... 0 0 0]\n",
      " [0 0 0 ... 0 0 0]\n",
      " ...\n",
      " [0 0 0 ... 0 0 0]\n",
      " [0 0 0 ... 0 0 0]\n",
      " [0 0 0 ... 0 0 0]]\n"
     ]
    }
   ],
   "source": [
    "# 根据词语出现的频率将所有新闻标题进行文本向量化\n",
    "\n",
    "from sklearn.feature_extraction.text import CountVectorizer\n",
    "\n",
    "vect = CountVectorizer()\n",
    "X = vect.fit_transform(words) # 将words进行词频向量化\n",
    "X = X.toarray() # 将向量化结果转换成数组\n",
    "print(X)"
   ]
  },
  {
   "cell_type": "code",
   "execution_count": 11,
   "metadata": {},
   "outputs": [
    {
     "data": {
      "text/html": [
       "<div>\n",
       "<style scoped>\n",
       "    .dataframe tbody tr th:only-of-type {\n",
       "        vertical-align: middle;\n",
       "    }\n",
       "\n",
       "    .dataframe tbody tr th {\n",
       "        vertical-align: top;\n",
       "    }\n",
       "\n",
       "    .dataframe thead th {\n",
       "        text-align: right;\n",
       "    }\n",
       "</style>\n",
       "<table border=\"1\" class=\"dataframe\">\n",
       "  <thead>\n",
       "    <tr style=\"text-align: right;\">\n",
       "      <th></th>\n",
       "      <th>00700</th>\n",
       "      <th>03</th>\n",
       "      <th>04</th>\n",
       "      <th>08s</th>\n",
       "      <th>09</th>\n",
       "      <th>10</th>\n",
       "      <th>100</th>\n",
       "      <th>11</th>\n",
       "      <th>12</th>\n",
       "      <th>150</th>\n",
       "      <th>...</th>\n",
       "      <th>黄萍</th>\n",
       "      <th>黄金</th>\n",
       "      <th>黑客</th>\n",
       "      <th>黑灰产</th>\n",
       "      <th>黑金</th>\n",
       "      <th>黑马</th>\n",
       "      <th>鼓手</th>\n",
       "      <th>鼻祖</th>\n",
       "      <th>齐聚</th>\n",
       "      <th>龙风</th>\n",
       "    </tr>\n",
       "  </thead>\n",
       "  <tbody>\n",
       "    <tr>\n",
       "      <th>0</th>\n",
       "      <td>0</td>\n",
       "      <td>0</td>\n",
       "      <td>0</td>\n",
       "      <td>0</td>\n",
       "      <td>0</td>\n",
       "      <td>0</td>\n",
       "      <td>0</td>\n",
       "      <td>0</td>\n",
       "      <td>0</td>\n",
       "      <td>0</td>\n",
       "      <td>...</td>\n",
       "      <td>0</td>\n",
       "      <td>0</td>\n",
       "      <td>0</td>\n",
       "      <td>0</td>\n",
       "      <td>0</td>\n",
       "      <td>0</td>\n",
       "      <td>0</td>\n",
       "      <td>0</td>\n",
       "      <td>0</td>\n",
       "      <td>0</td>\n",
       "    </tr>\n",
       "    <tr>\n",
       "      <th>1</th>\n",
       "      <td>0</td>\n",
       "      <td>0</td>\n",
       "      <td>0</td>\n",
       "      <td>0</td>\n",
       "      <td>0</td>\n",
       "      <td>0</td>\n",
       "      <td>0</td>\n",
       "      <td>0</td>\n",
       "      <td>0</td>\n",
       "      <td>0</td>\n",
       "      <td>...</td>\n",
       "      <td>0</td>\n",
       "      <td>0</td>\n",
       "      <td>0</td>\n",
       "      <td>0</td>\n",
       "      <td>0</td>\n",
       "      <td>0</td>\n",
       "      <td>0</td>\n",
       "      <td>0</td>\n",
       "      <td>0</td>\n",
       "      <td>0</td>\n",
       "    </tr>\n",
       "    <tr>\n",
       "      <th>2</th>\n",
       "      <td>0</td>\n",
       "      <td>0</td>\n",
       "      <td>0</td>\n",
       "      <td>0</td>\n",
       "      <td>0</td>\n",
       "      <td>0</td>\n",
       "      <td>0</td>\n",
       "      <td>0</td>\n",
       "      <td>0</td>\n",
       "      <td>0</td>\n",
       "      <td>...</td>\n",
       "      <td>0</td>\n",
       "      <td>0</td>\n",
       "      <td>0</td>\n",
       "      <td>0</td>\n",
       "      <td>0</td>\n",
       "      <td>0</td>\n",
       "      <td>0</td>\n",
       "      <td>0</td>\n",
       "      <td>0</td>\n",
       "      <td>0</td>\n",
       "    </tr>\n",
       "    <tr>\n",
       "      <th>3</th>\n",
       "      <td>0</td>\n",
       "      <td>0</td>\n",
       "      <td>0</td>\n",
       "      <td>0</td>\n",
       "      <td>0</td>\n",
       "      <td>0</td>\n",
       "      <td>0</td>\n",
       "      <td>0</td>\n",
       "      <td>0</td>\n",
       "      <td>0</td>\n",
       "      <td>...</td>\n",
       "      <td>0</td>\n",
       "      <td>0</td>\n",
       "      <td>0</td>\n",
       "      <td>0</td>\n",
       "      <td>0</td>\n",
       "      <td>0</td>\n",
       "      <td>0</td>\n",
       "      <td>0</td>\n",
       "      <td>0</td>\n",
       "      <td>0</td>\n",
       "    </tr>\n",
       "    <tr>\n",
       "      <th>4</th>\n",
       "      <td>0</td>\n",
       "      <td>0</td>\n",
       "      <td>0</td>\n",
       "      <td>0</td>\n",
       "      <td>0</td>\n",
       "      <td>0</td>\n",
       "      <td>0</td>\n",
       "      <td>0</td>\n",
       "      <td>0</td>\n",
       "      <td>0</td>\n",
       "      <td>...</td>\n",
       "      <td>0</td>\n",
       "      <td>0</td>\n",
       "      <td>0</td>\n",
       "      <td>0</td>\n",
       "      <td>0</td>\n",
       "      <td>0</td>\n",
       "      <td>0</td>\n",
       "      <td>0</td>\n",
       "      <td>0</td>\n",
       "      <td>0</td>\n",
       "    </tr>\n",
       "  </tbody>\n",
       "</table>\n",
       "<p>5 rows × 3402 columns</p>\n",
       "</div>"
      ],
      "text/plain": [
       "   00700  03  04  08s  09  10  100  11  12  150  ...  黄萍  黄金  黑客  黑灰产  黑金  黑马  \\\n",
       "0      0   0   0    0   0   0    0   0   0    0  ...   0   0   0    0   0   0   \n",
       "1      0   0   0    0   0   0    0   0   0    0  ...   0   0   0    0   0   0   \n",
       "2      0   0   0    0   0   0    0   0   0    0  ...   0   0   0    0   0   0   \n",
       "3      0   0   0    0   0   0    0   0   0    0  ...   0   0   0    0   0   0   \n",
       "4      0   0   0    0   0   0    0   0   0    0  ...   0   0   0    0   0   0   \n",
       "\n",
       "   鼓手  鼻祖  齐聚  龙风  \n",
       "0   0   0   0   0  \n",
       "1   0   0   0   0  \n",
       "2   0   0   0   0  \n",
       "3   0   0   0   0  \n",
       "4   0   0   0   0  \n",
       "\n",
       "[5 rows x 3402 columns]"
      ]
     },
     "execution_count": 11,
     "metadata": {},
     "output_type": "execute_result"
    }
   ],
   "source": [
    "# 将新闻标题向量化的结果组装成DataFrame\n",
    "all_words_bag = vect.get_feature_names_out() # 获取所有新闻标题模型的词袋\n",
    "df = pd.DataFrame(X,columns=all_words_bag)\n",
    "df.head()\n",
    "# 下图的每一列代表该行的新闻中出现该特征的频率是多少。如第0行的00700特征显示0，证明在该新闻中没有出现过00700这个特征"
   ]
  },
  {
   "cell_type": "code",
   "execution_count": 12,
   "metadata": {},
   "outputs": [
    {
     "data": {
      "text/plain": [
       "array(['00700', '03', '04', ..., '鼻祖', '齐聚', '龙风'], dtype=object)"
      ]
     },
     "execution_count": 12,
     "metadata": {},
     "output_type": "execute_result"
    }
   ],
   "source": [
    "all_words_bag #查看提取出的词袋"
   ]
  },
  {
   "cell_type": "code",
   "execution_count": 14,
   "metadata": {},
   "outputs": [],
   "source": [
    "# 模型搭建与使用\n",
    "from sklearn.cluster import KMeans\n",
    "kms = KMeans(n_clusters=10,random_state=123)\n",
    "k_data = kms.fit_predict(df)\n"
   ]
  },
  {
   "cell_type": "code",
   "execution_count": 22,
   "metadata": {},
   "outputs": [
    {
     "name": "stdout",
     "output_type": "stream",
     "text": [
      "['数据 科学 哪家 强 ? Python 和 R 的 对决   -   博客园 新闻 手机 版'\n",
      " '数字化 阅读 空间   |   怎么 用 Python 迅速 获取 网站 数据 ?'\n",
      " '今天 破解 了 压缩文件 的 密码 : 使用 python 轻松 编写 破解 程序'\n",
      " '程序员 如何 利用   Python   解决 女朋友 不看 天气 的 坏习惯 ?'\n",
      " '向 Excel 说 再见 , 神级 编辑器 统一 表格 与 Python'\n",
      " '谷歌 大脑 实习生 做出 Python 排版 工具 , 在线 运行 出 结果'\n",
      " '懂 Excel 就 能 轻松 入门 Python 数据分析 包 pandas ( 三 ) : 制作 成绩 条'\n",
      " '还 在 花钱 建网站 吗 ? 教你用 Python 把 github 变身 个人 网站'\n",
      " '现在 的 孩子 们 都 在 学 编程 , 是 学 C语言 还是 Python ?'\n",
      " '吴恩达 的 TensorFlow 实践 课 上线 , 有 Python 基础 就 能 听 , 4 个 月 学完'\n",
      " '让 Python 提速 超过 30 倍 的 必杀技 : Cython' '三体 究竟 有 多 可怕 ? 用 Python 建模 来 深度 了解'\n",
      " '再见 Excel ! 我 开源 了 一款 与 Python 深度 集成 的 神器 级 IDE'\n",
      " 'PyTorch - Transformers : 最 先进 的 自然语言 处理 库 ( 附带 python 代码 )'\n",
      " '今日 芯声 | 要 重构 ? Python 之父 考虑 重构 Python 解释器' 'Python 之父 考虑 重构 Python 解释器'\n",
      " 'Python 之父 考虑 重构 Python 解释器' 'vn . py   2.0 . 6   发布 , Python   量化 交易 框架'\n",
      " '微软 官方 上线   Python   教程 《 Develop   with   Python   on   Windows 》'\n",
      " '微软 上线 官方   Python   教程' 'Python 传奇 : 30 年 崛起 之 路'\n",
      " '如何 在 Windows 上 做 Python 开发 ? 微软 出 了 官方 教程'\n",
      " 'Python   为何 能 坐 稳   AI   人工智能   的   头牌 语言' 'python - 递归 的 应用'\n",
      " 'Python   成功 上位 , 正 逐渐 与   Java   拉开 差距'\n",
      " 'Python 简直 就是 万能 的 , 你 用 Python 都 做 过 哪些 事 ?'\n",
      " '人生 苦短 , Python 是 岸 — — 别 了 ! Python 之父 !'\n",
      " 'Python 爬虫 学到 什么 程度 就 可以 去 找 工作 了 ?'\n",
      " '黑客 都 用 Python ? 学习 Python 的 4 个 理由 !'\n",
      " '高性能   Python   解释器   PyPy   支持   AArch64   架构' 'Python 的 武器库 11 : os 模块'\n",
      " '好物 推荐 ! Python 的 datatable 程序包 概述'\n",
      " '人工智能 入门 : 用 python 教 你 实现 手写 数字 识别 !'\n",
      " '提升 6.75 倍 ! 利用 Cython 为 Python 代码 加速' 'Python 的 武器库 10 : Pillow 模块'\n",
      " '10 个 Python 简单 技巧 , 让 数据分析 速度 加快 不止 一倍 !'\n",
      " '如何 快速 教 妹子 学 Python ? 这个 方法 火 了 !'\n",
      " '今日 芯声 | 要 重构 ? Python 之父 考虑 重构 Python 解释器' 'Python 的 武器库 09 : psutil 模块'\n",
      " '提供 给 开发者   10   款 最好 的   Python   IDE' '对比 Ruby   和   Python   的 垃圾 回收'\n",
      " '为什么 Python 在 中国 突然 就 火 了 起来 了 呢 ?'\n",
      " '提供 给 开发者   10   款 最好 的   Python   IDE' '对比 Ruby   和   Python   的 垃圾 回收'\n",
      " '为什么 Python 在 中国 突然 就 火 了 起来 了 呢 ?'\n",
      " '提供 给 开发者   10   款 最好 的   Python   IDE' '对比 Ruby   和   Python   的 垃圾 回收'\n",
      " '为什么 Python 在 中国 突然 就 火 了 起来 了 呢 ?'\n",
      " '提供 给 开发者   10   款 最好 的   Python   IDE' '对比 Ruby   和   Python   的 垃圾 回收'\n",
      " '这么 多 编程语言 , 为何 Python 深入人心 ?' 'python - 字典 操作'\n",
      " 'Python 学习 之 路 「 第一篇 」 - Python 入门' 'Python 编程语言 基础 入门教程'\n",
      " '12   月 TIOBE 编程语言 榜 发布 , Python 再夺 榜首' '新 手写 Python 程序 有 什么 推荐 好用 编辑器'\n",
      " '为什么 我 觉得 Python 烂 的 要死 ? 原因 有 八' 'Python 纳入 高考 ? 少年 , 你 准备 好了吗 ?'\n",
      " '模型 评估 之 混淆 矩阵 ( confusion _ matrix ) 含义 及 Python 代码 实现' 'python 的 文件 操作'\n",
      " '使用 python 快速 合并 多个 Excel 文件 , 并 进行 数据处理' 'Python 和 Go 之间 的 区别 是 什么 ?'\n",
      " '如何 在 Visual   Studio 代码 中 的 做 Python 开发'\n",
      " 'Python 中 函数 的 定义 、 传参 和 lambda 函数 是 什么 ? 他们 有 什么 用 ?'\n",
      " 'TIOBE   2   月 编程语言 排行榜 : Python   逼近   C , Groovy   重回   TOP20'\n",
      " 'python - 字符 编码 转换' 'python   _ 、 __ 和 __ xx __ 的 区别'\n",
      " 'C++   转   Python   这 三年 , 我 都 经历 了 什么 ?' 'Python 虚拟环境 详解'\n",
      " '这么 多 编程语言 , 为何 Python 深入人心 ?']\n"
     ]
    }
   ],
   "source": [
    "import numpy as np\n",
    "words_array = np.array(words)\n",
    "# 查看种类8的新闻标题\n",
    "print(words_array[k_data==8])"
   ]
  }
 ],
 "metadata": {
  "kernelspec": {
   "display_name": "Python 3",
   "language": "python",
   "name": "python3"
  },
  "language_info": {
   "codemirror_mode": {
    "name": "ipython",
    "version": 3
   },
   "file_extension": ".py",
   "mimetype": "text/x-python",
   "name": "python",
   "nbconvert_exporter": "python",
   "pygments_lexer": "ipython3",
   "version": "3.11.9"
  }
 },
 "nbformat": 4,
 "nbformat_minor": 2
}
