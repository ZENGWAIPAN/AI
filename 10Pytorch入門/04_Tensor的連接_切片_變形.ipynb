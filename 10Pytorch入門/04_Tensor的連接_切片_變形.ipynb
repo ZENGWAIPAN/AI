{
 "cells": [
  {
   "cell_type": "code",
   "execution_count": 8,
   "metadata": {},
   "outputs": [],
   "source": [
    "import torch"
   ]
  },
  {
   "cell_type": "code",
   "execution_count": 9,
   "metadata": {},
   "outputs": [],
   "source": [
    "a = torch.rand(2,2)\n",
    "b = torch.rand(2,2)"
   ]
  },
  {
   "cell_type": "code",
   "execution_count": 10,
   "metadata": {},
   "outputs": [
    {
     "data": {
      "text/plain": [
       "(tensor([[0.0186, 0.8019],\n",
       "         [0.5316, 0.9614]]),\n",
       " tensor([[0.6256, 0.8262],\n",
       "         [0.8905, 0.4199]]))"
      ]
     },
     "execution_count": 10,
     "metadata": {},
     "output_type": "execute_result"
    }
   ],
   "source": [
    "a,b"
   ]
  },
  {
   "cell_type": "code",
   "execution_count": 11,
   "metadata": {},
   "outputs": [
    {
     "data": {
      "text/plain": [
       "tensor([[0.0186, 0.8019],\n",
       "        [0.5316, 0.9614],\n",
       "        [0.6256, 0.8262],\n",
       "        [0.8905, 0.4199]])"
      ]
     },
     "execution_count": 11,
     "metadata": {},
     "output_type": "execute_result"
    }
   ],
   "source": [
    "# 連接操作\n",
    "torch.cat((a,b),0) # 在0維度（垂直方向）上連接"
   ]
  },
  {
   "cell_type": "code",
   "execution_count": 12,
   "metadata": {},
   "outputs": [
    {
     "data": {
      "text/plain": [
       "tensor([[0.0186, 0.8019, 0.6256, 0.8262],\n",
       "        [0.5316, 0.9614, 0.8905, 0.4199]])"
      ]
     },
     "execution_count": 12,
     "metadata": {},
     "output_type": "execute_result"
    }
   ],
   "source": [
    "torch.cat((a,b),1) # 在1維度（水平方向）上連接"
   ]
  },
  {
   "cell_type": "code",
   "execution_count": 13,
   "metadata": {},
   "outputs": [
    {
     "data": {
      "text/plain": [
       "tensor([[0.3472, 0.1040, 0.7494, 0.4515],\n",
       "        [0.1138, 0.9238, 0.9908, 0.9272]])"
      ]
     },
     "execution_count": 13,
     "metadata": {},
     "output_type": "execute_result"
    }
   ],
   "source": [
    "# 切片操作\n",
    "c = torch.rand(2,4)\n",
    "c"
   ]
  },
  {
   "cell_type": "code",
   "execution_count": 14,
   "metadata": {},
   "outputs": [
    {
     "data": {
      "text/plain": [
       "(tensor([[0.3472, 0.1040],\n",
       "         [0.1138, 0.9238]]),\n",
       " tensor([[0.7494, 0.4515],\n",
       "         [0.9908, 0.9272]]))"
      ]
     },
     "execution_count": 14,
     "metadata": {},
     "output_type": "execute_result"
    }
   ],
   "source": [
    "torch.chunk(c,2,1) # 将張量c，在1維度切分成2份"
   ]
  },
  {
   "cell_type": "markdown",
   "metadata": {},
   "source": [
    "- 變形操作"
   ]
  },
  {
   "cell_type": "code",
   "execution_count": 15,
   "metadata": {},
   "outputs": [
    {
     "data": {
      "text/plain": [
       "tensor([[[0.6912, 0.6100, 0.9194, 0.7671],\n",
       "         [0.1925, 0.0939, 0.7748, 0.8048],\n",
       "         [0.1051, 0.4404, 0.6966, 0.1607]],\n",
       "\n",
       "        [[0.2503, 0.7455, 0.8392, 0.5142],\n",
       "         [0.6039, 0.8791, 0.7005, 0.5667],\n",
       "         [0.7693, 0.4345, 0.9410, 0.8383]]])"
      ]
     },
     "execution_count": 15,
     "metadata": {},
     "output_type": "execute_result"
    }
   ],
   "source": [
    "X = torch.rand(2,3,4)\n",
    "X"
   ]
  },
  {
   "cell_type": "code",
   "execution_count": 16,
   "metadata": {},
   "outputs": [
    {
     "data": {
      "text/plain": [
       "torch.Size([2, 3, 4])"
      ]
     },
     "execution_count": 16,
     "metadata": {},
     "output_type": "execute_result"
    }
   ],
   "source": [
    "X.size()"
   ]
  },
  {
   "cell_type": "code",
   "execution_count": 18,
   "metadata": {},
   "outputs": [
    {
     "data": {
      "text/plain": [
       "torch.Size([2, 12])"
      ]
     },
     "execution_count": 18,
     "metadata": {},
     "output_type": "execute_result"
    }
   ],
   "source": [
    "y = X.view(2,12)\n",
    "y.size()"
   ]
  },
  {
   "cell_type": "code",
   "execution_count": 19,
   "metadata": {},
   "outputs": [
    {
     "data": {
      "text/plain": [
       "tensor([[0.6912, 0.6100, 0.9194, 0.7671, 0.1925, 0.0939, 0.7748, 0.8048, 0.1051,\n",
       "         0.4404, 0.6966, 0.1607],\n",
       "        [0.2503, 0.7455, 0.8392, 0.5142, 0.6039, 0.8791, 0.7005, 0.5667, 0.7693,\n",
       "         0.4345, 0.9410, 0.8383]])"
      ]
     },
     "execution_count": 19,
     "metadata": {},
     "output_type": "execute_result"
    }
   ],
   "source": [
    "y"
   ]
  }
 ],
 "metadata": {
  "kernelspec": {
   "display_name": "Python 3",
   "language": "python",
   "name": "python3"
  },
  "language_info": {
   "codemirror_mode": {
    "name": "ipython",
    "version": 3
   },
   "file_extension": ".py",
   "mimetype": "text/x-python",
   "name": "python",
   "nbconvert_exporter": "python",
   "pygments_lexer": "ipython3",
   "version": "3.11.9"
  }
 },
 "nbformat": 4,
 "nbformat_minor": 2
}
